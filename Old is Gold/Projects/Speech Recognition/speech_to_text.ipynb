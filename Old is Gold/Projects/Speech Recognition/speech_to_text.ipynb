{
 "cells": [
  {
   "cell_type": "code",
   "execution_count": 1,
   "metadata": {},
   "outputs": [],
   "source": [
    "import speech_recognition as sr\n",
    "import threading\n"
   ]
  },
  {
   "cell_type": "code",
   "execution_count": 2,
   "metadata": {},
   "outputs": [],
   "source": [
    "# Initialize the recognizer\n",
    "recognizer = sr.Recognizer()\n"
   ]
  },
  {
   "cell_type": "code",
   "execution_count": 3,
   "metadata": {},
   "outputs": [],
   "source": [
    "# Function to perform continuous speech recognition\n",
    "def speech_recognition_thread():\n",
    "    while True:\n",
    "        with sr.Microphone() as source:\n",
    "            recognizer.adjust_for_ambient_noise(source)\n",
    "            print(\"Speak something...\")\n",
    "            audio = recognizer.listen(source)\n",
    "\n",
    "        try:\n",
    "            text = recognizer.recognize_sphinx(audio)\n",
    "            print(\"You said: \" + text)\n",
    "        except sr.UnknownValueError:\n",
    "            print(\"Sorry, I could not understand what you said.\")\n",
    "        except sr.RequestError as e:\n",
    "            print(f\"Request error: {e}\")"
   ]
  },
  {
   "cell_type": "code",
   "execution_count": 5,
   "metadata": {},
   "outputs": [
    {
     "name": "stdout",
     "output_type": "stream",
     "text": [
      "Speak something...\n",
      "You said: what\n"
     ]
    },
    {
     "ename": "KeyboardInterrupt",
     "evalue": "",
     "output_type": "error",
     "traceback": [
      "\u001b[1;31m---------------------------------------------------------------------------\u001b[0m",
      "\u001b[1;31mKeyboardInterrupt\u001b[0m                         Traceback (most recent call last)",
      "\u001b[1;32md:\\Projects\\Speech Recognition\\speech_to_text.ipynb Cell 4\u001b[0m line \u001b[0;36m7\n\u001b[0;32m      <a href='vscode-notebook-cell:/d%3A/Projects/Speech%20Recognition/speech_to_text.ipynb#W3sZmlsZQ%3D%3D?line=3'>4</a>\u001b[0m recognition_thread\u001b[39m.\u001b[39mstart()\n\u001b[0;32m      <a href='vscode-notebook-cell:/d%3A/Projects/Speech%20Recognition/speech_to_text.ipynb#W3sZmlsZQ%3D%3D?line=5'>6</a>\u001b[0m \u001b[39m# Main program continues here\u001b[39;00m\n\u001b[1;32m----> <a href='vscode-notebook-cell:/d%3A/Projects/Speech%20Recognition/speech_to_text.ipynb#W3sZmlsZQ%3D%3D?line=6'>7</a>\u001b[0m \u001b[39mwhile\u001b[39;00m \u001b[39mTrue\u001b[39;00m:\n\u001b[0;32m      <a href='vscode-notebook-cell:/d%3A/Projects/Speech%20Recognition/speech_to_text.ipynb#W3sZmlsZQ%3D%3D?line=7'>8</a>\u001b[0m     \u001b[39mpass\u001b[39;00m  \u001b[39m# Add your main program logic here if needed\u001b[39;00m\n",
      "\u001b[1;31mKeyboardInterrupt\u001b[0m: "
     ]
    },
    {
     "name": "stdout",
     "output_type": "stream",
     "text": [
      "Speak something...\n"
     ]
    }
   ],
   "source": [
    "# Start the speech recognition thread\n",
    "recognition_thread = threading.Thread(target=speech_recognition_thread)\n",
    "recognition_thread.daemon = True\n",
    "recognition_thread.start()\n",
    "\n",
    "# Main program continues here\n",
    "while True:\n",
    "    pass  # Add your main program logic here if needed"
   ]
  },
  {
   "cell_type": "code",
   "execution_count": 5,
   "metadata": {},
   "outputs": [
    {
     "name": "stdout",
     "output_type": "stream",
     "text": [
      "Speak something...\n",
      "You said: hello my name is Nikhil I am going to school right now thank you\n"
     ]
    }
   ],
   "source": [
    "# import speech_recognition as sr\n",
    "\n",
    "# # Initialize the recognizer\n",
    "# recognizer = sr.Recognizer()\n",
    "\n",
    "# while True:\n",
    "#     # Capture audio from the microphone\n",
    "#     with sr.Microphone() as source:\n",
    "#         print(\"Speak something...\")\n",
    "#         audio = recognizer.listen(source)\n",
    "\n",
    "#     try:\n",
    "#         # Recognize the speech using Google Web Speech API\n",
    "#         text = recognizer.recognize_google(audio)\n",
    "#         print(\"You said: \" + text)\n",
    "#     except sr.UnknownValueError:\n",
    "#         print(\"Sorry, I could not understand what you said.\")\n",
    "#     except sr.RequestError as e:\n",
    "#         print(f\"Request error: {e}\")\n"
   ]
  }
 ],
 "metadata": {
  "kernelspec": {
   "display_name": "Python 3",
   "language": "python",
   "name": "python3"
  },
  "language_info": {
   "codemirror_mode": {
    "name": "ipython",
    "version": 3
   },
   "file_extension": ".py",
   "mimetype": "text/x-python",
   "name": "python",
   "nbconvert_exporter": "python",
   "pygments_lexer": "ipython3",
   "version": "3.11.5"
  },
  "orig_nbformat": 4
 },
 "nbformat": 4,
 "nbformat_minor": 2
}
