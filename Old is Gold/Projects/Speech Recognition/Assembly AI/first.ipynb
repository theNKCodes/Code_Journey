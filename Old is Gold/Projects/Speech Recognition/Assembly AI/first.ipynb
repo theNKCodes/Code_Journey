{
 "cells": [
  {
   "cell_type": "code",
   "execution_count": 47,
   "metadata": {},
   "outputs": [],
   "source": [
    "import requests\n",
    "import json\n",
    "\n",
    "api_token = \"c69f98807dba47fca8ef06ffcafd215b\""
   ]
  },
  {
   "cell_type": "code",
   "execution_count": 48,
   "metadata": {},
   "outputs": [],
   "source": [
    "transcript_ids = [\"transcript_id_1\", \"transcript_id_2\"]\n",
    "\n",
    "data = {\n",
    "    \"transcript_ids\": transcript_ids,\n",
    "    \"context\": \"The caller is interested in buying a car.\",\n",
    "    \"answer_format\": \"Short sentence\"\n",
    "}"
   ]
  },
  {
   "cell_type": "code",
   "execution_count": 49,
   "metadata": {},
   "outputs": [
    {
     "name": "stdout",
     "output_type": "stream",
     "text": [
      "Error: Your account has insufficient funds. Please top up to continue using the API\n"
     ]
    }
   ],
   "source": [
    "def post_lemur(api_token, data):\n",
    "    url = \"https://api.assemblyai.com/lemur/v3/generate/summary\"\n",
    "\n",
    "    headers = {\n",
    "        \"authorization\": api_token\n",
    "    }\n",
    "\n",
    "    response = requests.post(url, json=data, headers=headers)\n",
    "    return response\n",
    "\n",
    "lemur_output = post_lemur(api_token, data)\n",
    "lemur_response = lemur_output.json()\n",
    "\n",
    "if \"error\" in lemur_response:\n",
    "    print(f\"Error: { lemur_response['error'] }\")\n",
    "else:\n",
    "    print(lemur_response)"
   ]
  },
  {
   "cell_type": "code",
   "execution_count": 50,
   "metadata": {},
   "outputs": [
    {
     "data": {
      "text/plain": [
       "{'response': \"The caller contacted a car dealership about purchasing a vehicle. The salesperson described some available options, and the caller expressed interest in a few different models. They discussed pricing and negotiated a deal on a sedan that met the caller's needs. The caller agreed to come into the dealership to finalize the paperwork and pick up the new car.\"}"
      ]
     },
     "execution_count": 50,
     "metadata": {},
     "output_type": "execute_result"
    }
   ],
   "source": [
    "{\n",
    "  \"response\": \"The caller contacted a car dealership about purchasing a vehicle. The salesperson described some available options, and the caller expressed interest in a few different models. They discussed pricing and negotiated a deal on a sedan that met the caller's needs. The caller agreed to come into the dealership to finalize the paperwork and pick up the new car.\"\n",
    "}"
   ]
  }
 ],
 "metadata": {
  "kernelspec": {
   "display_name": "Python 3",
   "language": "python",
   "name": "python3"
  },
  "language_info": {
   "codemirror_mode": {
    "name": "ipython",
    "version": 3
   },
   "file_extension": ".py",
   "mimetype": "text/x-python",
   "name": "python",
   "nbconvert_exporter": "python",
   "pygments_lexer": "ipython3",
   "version": "3.11.5"
  },
  "orig_nbformat": 4
 },
 "nbformat": 4,
 "nbformat_minor": 2
}
