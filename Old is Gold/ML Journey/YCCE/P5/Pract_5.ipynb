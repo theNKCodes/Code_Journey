{
 "cells": [
  {
   "cell_type": "markdown",
   "metadata": {},
   "source": [
    "### Practical 5\n",
    "### Aim : Implement ensemble algorithms.\n",
    "\n",
    "#### Problem Statement: \n",
    "    In this practical, we will explore ensemble algorithms using Python libraries. We will work with a dataset, perform undersampling to address class imbalance, prepare the data, and apply ensemble methods. Specifically, we will implement a random forest classifier and evaluate its performance using accuracy.\n",
    "\n",
    "#### Theory:\n",
    "    1.\tUndersampling for Class Imbalance: We address the issue of imbalanced data by using the undersampling approach. This approach reduces the number of observations for the majority class to balance it with the minority class.\n",
    "    2.\tData Preparation: We prepare the dataset by normalizing the features to have the same scale. Normalizing the data helps improve the performance of some machine learning models.\n",
    "    3.\tTrain-Test Split: The dataset is divided into training and testing sets to evaluate the model's performance.\n",
    "    4.\tRandom Forest Classifier: We implement a random forest classifier, which is an ensemble method. The random forest classifier consists of multiple decision trees and combines their predictions to make more accurate classifications.\n"
   ]
  },
  {
   "cell_type": "markdown",
   "metadata": {},
   "source": []
  },
  {
   "cell_type": "code",
   "execution_count": 1,
   "metadata": {},
   "outputs": [
    {
     "data": {
      "text/html": [
       "<div>\n",
       "<style scoped>\n",
       "    .dataframe tbody tr th:only-of-type {\n",
       "        vertical-align: middle;\n",
       "    }\n",
       "\n",
       "    .dataframe tbody tr th {\n",
       "        vertical-align: top;\n",
       "    }\n",
       "\n",
       "    .dataframe thead th {\n",
       "        text-align: right;\n",
       "    }\n",
       "</style>\n",
       "<table border=\"1\" class=\"dataframe\">\n",
       "  <thead>\n",
       "    <tr style=\"text-align: right;\">\n",
       "      <th></th>\n",
       "      <th>credit.policy</th>\n",
       "      <th>purpose</th>\n",
       "      <th>int.rate</th>\n",
       "      <th>installment</th>\n",
       "      <th>log.annual.inc</th>\n",
       "      <th>dti</th>\n",
       "      <th>fico</th>\n",
       "      <th>days.with.cr.line</th>\n",
       "      <th>revol.bal</th>\n",
       "      <th>revol.util</th>\n",
       "      <th>inq.last.6mths</th>\n",
       "      <th>delinq.2yrs</th>\n",
       "      <th>pub.rec</th>\n",
       "      <th>not.fully.paid</th>\n",
       "    </tr>\n",
       "  </thead>\n",
       "  <tbody>\n",
       "    <tr>\n",
       "      <th>0</th>\n",
       "      <td>1</td>\n",
       "      <td>debt_consolidation</td>\n",
       "      <td>0.1189</td>\n",
       "      <td>829.10</td>\n",
       "      <td>11.350407</td>\n",
       "      <td>19.48</td>\n",
       "      <td>737</td>\n",
       "      <td>5639.958333</td>\n",
       "      <td>28854</td>\n",
       "      <td>52.1</td>\n",
       "      <td>0</td>\n",
       "      <td>0</td>\n",
       "      <td>0</td>\n",
       "      <td>0</td>\n",
       "    </tr>\n",
       "    <tr>\n",
       "      <th>1</th>\n",
       "      <td>1</td>\n",
       "      <td>credit_card</td>\n",
       "      <td>0.1071</td>\n",
       "      <td>228.22</td>\n",
       "      <td>11.082143</td>\n",
       "      <td>14.29</td>\n",
       "      <td>707</td>\n",
       "      <td>2760.000000</td>\n",
       "      <td>33623</td>\n",
       "      <td>76.7</td>\n",
       "      <td>0</td>\n",
       "      <td>0</td>\n",
       "      <td>0</td>\n",
       "      <td>0</td>\n",
       "    </tr>\n",
       "    <tr>\n",
       "      <th>2</th>\n",
       "      <td>1</td>\n",
       "      <td>debt_consolidation</td>\n",
       "      <td>0.1357</td>\n",
       "      <td>366.86</td>\n",
       "      <td>10.373491</td>\n",
       "      <td>11.63</td>\n",
       "      <td>682</td>\n",
       "      <td>4710.000000</td>\n",
       "      <td>3511</td>\n",
       "      <td>25.6</td>\n",
       "      <td>1</td>\n",
       "      <td>0</td>\n",
       "      <td>0</td>\n",
       "      <td>0</td>\n",
       "    </tr>\n",
       "    <tr>\n",
       "      <th>3</th>\n",
       "      <td>1</td>\n",
       "      <td>debt_consolidation</td>\n",
       "      <td>0.1008</td>\n",
       "      <td>162.34</td>\n",
       "      <td>11.350407</td>\n",
       "      <td>8.10</td>\n",
       "      <td>712</td>\n",
       "      <td>2699.958333</td>\n",
       "      <td>33667</td>\n",
       "      <td>73.2</td>\n",
       "      <td>1</td>\n",
       "      <td>0</td>\n",
       "      <td>0</td>\n",
       "      <td>0</td>\n",
       "    </tr>\n",
       "    <tr>\n",
       "      <th>4</th>\n",
       "      <td>1</td>\n",
       "      <td>credit_card</td>\n",
       "      <td>0.1426</td>\n",
       "      <td>102.92</td>\n",
       "      <td>11.299732</td>\n",
       "      <td>14.97</td>\n",
       "      <td>667</td>\n",
       "      <td>4066.000000</td>\n",
       "      <td>4740</td>\n",
       "      <td>39.5</td>\n",
       "      <td>0</td>\n",
       "      <td>1</td>\n",
       "      <td>0</td>\n",
       "      <td>0</td>\n",
       "    </tr>\n",
       "  </tbody>\n",
       "</table>\n",
       "</div>"
      ],
      "text/plain": [
       "   credit.policy             purpose  int.rate  installment  log.annual.inc  \\\n",
       "0              1  debt_consolidation    0.1189       829.10       11.350407   \n",
       "1              1         credit_card    0.1071       228.22       11.082143   \n",
       "2              1  debt_consolidation    0.1357       366.86       10.373491   \n",
       "3              1  debt_consolidation    0.1008       162.34       11.350407   \n",
       "4              1         credit_card    0.1426       102.92       11.299732   \n",
       "\n",
       "     dti  fico  days.with.cr.line  revol.bal  revol.util  inq.last.6mths  \\\n",
       "0  19.48   737        5639.958333      28854        52.1               0   \n",
       "1  14.29   707        2760.000000      33623        76.7               0   \n",
       "2  11.63   682        4710.000000       3511        25.6               1   \n",
       "3   8.10   712        2699.958333      33667        73.2               1   \n",
       "4  14.97   667        4066.000000       4740        39.5               0   \n",
       "\n",
       "   delinq.2yrs  pub.rec  not.fully.paid  \n",
       "0            0        0               0  \n",
       "1            0        0               0  \n",
       "2            0        0               0  \n",
       "3            0        0               0  \n",
       "4            1        0               0  "
      ]
     },
     "execution_count": 1,
     "metadata": {},
     "output_type": "execute_result"
    }
   ],
   "source": [
    "import pandas as pd\n",
    "loan_data = pd.read_csv(\"loan_data.csv\")\n",
    "loan_data.head()"
   ]
  },
  {
   "cell_type": "markdown",
   "metadata": {},
   "source": [
    "##### We notice an imbalanced data scenario, where there are many more observations with class 0 (8045 observations) than there are for class 1 (only 1533 observations)."
   ]
  },
  {
   "cell_type": "code",
   "execution_count": 2,
   "metadata": {},
   "outputs": [
    {
     "name": "stdout",
     "output_type": "stream",
     "text": [
      "not.fully.paid\n",
      "0    8045\n",
      "1    1533\n",
      "Name: count, dtype: int64\n"
     ]
    },
    {
     "data": {
      "text/plain": [
       "<Axes: ylabel='not.fully.paid'>"
      ]
     },
     "execution_count": 2,
     "metadata": {},
     "output_type": "execute_result"
    },
    {
     "data": {
      "image/png": "[encoded data removed]",
      "text/plain": [
       "<Figure size 640x480 with 1 Axes>"
      ]
     },
     "metadata": {},
     "output_type": "display_data"
    }
   ],
   "source": [
    "print(loan_data['not.fully.paid'].value_counts())\n",
    "loan_data['not.fully.paid'].value_counts().plot(kind='barh')"
   ]
  },
  {
   "cell_type": "markdown",
   "metadata": {},
   "source": [
    "We notice an imbalanced data scenario, where there are much more observations with class 0 than there are for class 1. \n",
    "One way of solving this issue is using the undersampling approach, meaning that we are reducing the number of observations for the class 0. In this scenario, there will be as many observations for class 0 as there are for class 1.  \n",
    "- First get the number of class 1.   \n",
    "- Create a new dataframe of class 0. \n",
    "- Concatenate the final two dataframes. "
   ]
  },
  {
   "cell_type": "code",
   "execution_count": 3,
   "metadata": {},
   "outputs": [
    {
     "name": "stdout",
     "output_type": "stream",
     "text": [
      "(3066, 14)\n"
     ]
    }
   ],
   "source": [
    "loan_data_class_1 = loan_data[loan_data['not.fully.paid'] == 1]\n",
    "number_class_1 = len(loan_data_class_1)\n",
    "loan_data_class_0 = loan_data[loan_data['not.fully.paid'] == 0].sample(number_class_1)\n",
    "\n",
    "final_loan_data = pd.concat([loan_data_class_1, loan_data_class_0])\n",
    "print(final_loan_data.shape)"
   ]
  },
  {
   "cell_type": "markdown",
   "metadata": {},
   "source": [
    "##### Overall 3066 observations and 14 columns."
   ]
  },
  {
   "cell_type": "code",
   "execution_count": 4,
   "metadata": {},
   "outputs": [
    {
     "name": "stdout",
     "output_type": "stream",
     "text": [
      "not.fully.paid\n",
      "1    1533\n",
      "0    1533\n",
      "Name: count, dtype: int64\n"
     ]
    },
    {
     "data": {
      "text/plain": [
       "<Axes: ylabel='not.fully.paid'>"
      ]
     },
     "execution_count": 4,
     "metadata": {},
     "output_type": "execute_result"
    },
    {
     "data": {
      "image/png": "[encoded data removed]",
      "text/plain": [
       "<Figure size 640x480 with 1 Axes>"
      ]
     },
     "metadata": {},
     "output_type": "display_data"
    }
   ],
   "source": [
    "print(final_loan_data['not.fully.paid'].value_counts())\n",
    "final_loan_data['not.fully.paid'].value_counts().plot(kind='barh')"
   ]
  },
  {
   "cell_type": "markdown",
   "metadata": {},
   "source": [
    "## Data preparation\n",
    "By looking at the data set, we notice that not all the features have the same scale, and some machine learning models such as KNN are sensitive to this scaling issue. This can be addressed by normalizing the ranges of the features to the same scale. In this scenario, between 0 and 1."
   ]
  },
  {
   "cell_type": "code",
   "execution_count": 5,
   "metadata": {},
   "outputs": [
    {
     "data": {
      "text/html": [
       "<div>\n",
       "<style scoped>\n",
       "    .dataframe tbody tr th:only-of-type {\n",
       "        vertical-align: middle;\n",
       "    }\n",
       "\n",
       "    .dataframe tbody tr th {\n",
       "        vertical-align: top;\n",
       "    }\n",
       "\n",
       "    .dataframe thead th {\n",
       "        text-align: right;\n",
       "    }\n",
       "</style>\n",
       "<table border=\"1\" class=\"dataframe\">\n",
       "  <thead>\n",
       "    <tr style=\"text-align: right;\">\n",
       "      <th></th>\n",
       "      <th>credit.policy</th>\n",
       "      <th>int.rate</th>\n",
       "      <th>installment</th>\n",
       "      <th>log.annual.inc</th>\n",
       "      <th>dti</th>\n",
       "      <th>fico</th>\n",
       "      <th>days.with.cr.line</th>\n",
       "      <th>revol.bal</th>\n",
       "      <th>revol.util</th>\n",
       "      <th>inq.last.6mths</th>\n",
       "      <th>delinq.2yrs</th>\n",
       "      <th>pub.rec</th>\n",
       "      <th>not.fully.paid</th>\n",
       "    </tr>\n",
       "  </thead>\n",
       "  <tbody>\n",
       "    <tr>\n",
       "      <th>6</th>\n",
       "      <td>1</td>\n",
       "      <td>0.1496</td>\n",
       "      <td>194.02</td>\n",
       "      <td>10.714418</td>\n",
       "      <td>4.00</td>\n",
       "      <td>667</td>\n",
       "      <td>3180.041667</td>\n",
       "      <td>3839</td>\n",
       "      <td>76.8</td>\n",
       "      <td>0</td>\n",
       "      <td>0</td>\n",
       "      <td>1</td>\n",
       "      <td>1</td>\n",
       "    </tr>\n",
       "    <tr>\n",
       "      <th>7</th>\n",
       "      <td>1</td>\n",
       "      <td>0.1114</td>\n",
       "      <td>131.22</td>\n",
       "      <td>11.002100</td>\n",
       "      <td>11.08</td>\n",
       "      <td>722</td>\n",
       "      <td>5116.000000</td>\n",
       "      <td>24220</td>\n",
       "      <td>68.6</td>\n",
       "      <td>0</td>\n",
       "      <td>0</td>\n",
       "      <td>0</td>\n",
       "      <td>1</td>\n",
       "    </tr>\n",
       "    <tr>\n",
       "      <th>57</th>\n",
       "      <td>1</td>\n",
       "      <td>0.1343</td>\n",
       "      <td>678.08</td>\n",
       "      <td>11.884489</td>\n",
       "      <td>10.15</td>\n",
       "      <td>682</td>\n",
       "      <td>4209.958333</td>\n",
       "      <td>41674</td>\n",
       "      <td>74.1</td>\n",
       "      <td>0</td>\n",
       "      <td>0</td>\n",
       "      <td>0</td>\n",
       "      <td>1</td>\n",
       "    </tr>\n",
       "    <tr>\n",
       "      <th>65</th>\n",
       "      <td>1</td>\n",
       "      <td>0.1059</td>\n",
       "      <td>32.55</td>\n",
       "      <td>10.433822</td>\n",
       "      <td>14.47</td>\n",
       "      <td>687</td>\n",
       "      <td>1110.000000</td>\n",
       "      <td>4485</td>\n",
       "      <td>36.9</td>\n",
       "      <td>1</td>\n",
       "      <td>0</td>\n",
       "      <td>0</td>\n",
       "      <td>1</td>\n",
       "    </tr>\n",
       "    <tr>\n",
       "      <th>73</th>\n",
       "      <td>1</td>\n",
       "      <td>0.1501</td>\n",
       "      <td>225.37</td>\n",
       "      <td>12.269047</td>\n",
       "      <td>6.45</td>\n",
       "      <td>677</td>\n",
       "      <td>6240.000000</td>\n",
       "      <td>56411</td>\n",
       "      <td>75.3</td>\n",
       "      <td>0</td>\n",
       "      <td>0</td>\n",
       "      <td>0</td>\n",
       "      <td>1</td>\n",
       "    </tr>\n",
       "  </tbody>\n",
       "</table>\n",
       "</div>"
      ],
      "text/plain": [
       "    credit.policy  int.rate  installment  log.annual.inc    dti  fico  \\\n",
       "6               1    0.1496       194.02       10.714418   4.00   667   \n",
       "7               1    0.1114       131.22       11.002100  11.08   722   \n",
       "57              1    0.1343       678.08       11.884489  10.15   682   \n",
       "65              1    0.1059        32.55       10.433822  14.47   687   \n",
       "73              1    0.1501       225.37       12.269047   6.45   677   \n",
       "\n",
       "    days.with.cr.line  revol.bal  revol.util  inq.last.6mths  delinq.2yrs  \\\n",
       "6         3180.041667       3839        76.8               0            0   \n",
       "7         5116.000000      24220        68.6               0            0   \n",
       "57        4209.958333      41674        74.1               0            0   \n",
       "65        1110.000000       4485        36.9               1            0   \n",
       "73        6240.000000      56411        75.3               0            0   \n",
       "\n",
       "    pub.rec  not.fully.paid  \n",
       "6         1               1  \n",
       "7         0               1  \n",
       "57        0               1  \n",
       "65        0               1  \n",
       "73        0               1  "
      ]
     },
     "execution_count": 5,
     "metadata": {},
     "output_type": "execute_result"
    }
   ],
   "source": [
    "from sklearn.preprocessing import MinMaxScaler\n",
    "\n",
    "scaler = MinMaxScaler(feature_range=(0, 1))\n",
    "\n",
    "# Remove unwanted 'purpose' column and get the data\n",
    "final_loan_data.drop(['purpose'], axis=1, inplace=True)\n",
    "X = final_loan_data.drop('not.fully.paid', axis=1)\n",
    "\n",
    "normalized_X = scaler.fit_transform(X)\n",
    "final_loan_data.head()"
   ]
  },
  {
   "cell_type": "markdown",
   "metadata": {},
   "source": [
    "##### Train Test Split"
   ]
  },
  {
   "cell_type": "code",
   "execution_count": 6,
   "metadata": {},
   "outputs": [],
   "source": [
    "from sklearn.model_selection import train_test_split\n",
    "\n",
    "y = final_loan_data['not.fully.paid']\n",
    "r_state = 2023\n",
    "t_size = 0.33\n",
    "\n",
    "X_train, X_test, y_train, y_test = train_test_split(normalized_X, y,\n",
    "                                                    test_size=t_size,\n",
    "                                                    random_state=r_state,\n",
    "                                                    stratify=y)"
   ]
  },
  {
   "cell_type": "markdown",
   "metadata": {},
   "source": [
    "##### Using Bagging Model"
   ]
  },
  {
   "cell_type": "code",
   "execution_count": 7,
   "metadata": {},
   "outputs": [
    {
     "name": "stdout",
     "output_type": "stream",
     "text": [
      "Accuracy: 0.607707509881423\n"
     ]
    }
   ],
   "source": [
    "from sklearn.ensemble import RandomForestClassifier\n",
    "from sklearn.model_selection import cross_val_score\n",
    "from sklearn.metrics import accuracy_score\n",
    "\n",
    "# Define the model\n",
    "random_forest_model = RandomForestClassifier()\n",
    "\n",
    "# Fit the random search object to the data\n",
    "random_forest_model.fit(X_train, y_train)\n",
    "# Make predictions\n",
    "y_pred = random_forest_model.predict(X_test)\n",
    "\n",
    "# Get the performance \n",
    "accuracy = accuracy_score(y_test, y_pred)\n",
    "\n",
    "print(\"Accuracy:\", accuracy)"
   ]
  },
  {
   "cell_type": "markdown",
   "metadata": {},
   "source": [
    "#### Result Analysis: \n",
    "    We observe an accuracy of approximately 60.77% for the random forest classifier. This accuracy metric is used to assess the performance of the ensemble model."
   ]
  },
  {
   "cell_type": "markdown",
   "metadata": {},
   "source": [
    "#### Conclusion: \n",
    "    Practical 5 demonstrates the implementation of ensemble algorithms, specifically the random forest classifier, to address imbalanced data and make accurate predictions. The accuracy achieved serves as an evaluation metric for the model's performance. Ensemble methods are valuable tools for improving classification accuracy in machine learning tasks."
   ]
  }
 ],
 "metadata": {
  "kernelspec": {
   "display_name": "Python 3",
   "language": "python",
   "name": "python3"
  },
  "language_info": {
   "codemirror_mode": {
    "name": "ipython",
    "version": 3
   },
   "file_extension": ".py",
   "mimetype": "text/x-python",
   "name": "python",
   "nbconvert_exporter": "python",
   "pygments_lexer": "ipython3",
   "version": "3.11.6"
  }
 },
 "nbformat": 4,
 "nbformat_minor": 2
}
